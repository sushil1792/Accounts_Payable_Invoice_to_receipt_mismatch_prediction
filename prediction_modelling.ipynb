{
 "cells": [
  {
   "cell_type": "code",
   "execution_count": 1,
   "metadata": {
    "colab": {},
    "colab_type": "code",
    "id": "orT1O0SSSHzc"
   },
   "outputs": [],
   "source": [
    "import pandas as pd\n",
    "import numpy as np\n",
    "from sklearn.metrics import accuracy_score\n",
    "from sklearn.model_selection import train_test_split\n",
    "from sklearn import preprocessing\n",
    "from sklearn.utils import resample\n",
    "from sklearn.utils import resample\n",
    "from sklearn.linear_model import LogisticRegression\n",
    "import seaborn as sns\n",
    "import matplotlib.pyplot as plt"
   ]
  },
  {
   "cell_type": "code",
   "execution_count": 2,
   "metadata": {
    "colab": {},
    "colab_type": "code",
    "id": "RiIQucSfSqhf"
   },
   "outputs": [],
   "source": [
    "#load training and additional validation data\n",
    "train_preprocessed = pd.read_csv('train_preprocessed.csv')\n",
    "validation_preprocessed = pd.read_csv('validation_preprocessed.csv')"
   ]
  },
  {
   "cell_type": "code",
   "execution_count": 3,
   "metadata": {},
   "outputs": [],
   "source": [
    "#Combine training and additional validation data for consistent preprocessing\n",
    "df=pd.concat([train_preprocessed,validation_preprocessed],axis=0)"
   ]
  },
  {
   "cell_type": "code",
   "execution_count": 4,
   "metadata": {},
   "outputs": [
    {
     "name": "stdout",
     "output_type": "stream",
     "text": [
      "(3749767, 13)\n",
      "(3684578, 13)\n",
      "(65189, 13)\n"
     ]
    }
   ],
   "source": [
    "print(df.shape)\n",
    "print(train_preprocessed.shape)\n",
    "print(validation_preprocessed.shape)"
   ]
  },
  {
   "cell_type": "code",
   "execution_count": 5,
   "metadata": {
    "colab": {
     "base_uri": "https://localhost:8080/",
     "height": 224
    },
    "colab_type": "code",
    "id": "Yh_lQe8znf86",
    "outputId": "83874f09-e3af-4fc8-e42f-012c16fbfd09",
    "scrolled": true
   },
   "outputs": [
    {
     "data": {
      "text/html": [
       "<div>\n",
       "<style scoped>\n",
       "    .dataframe tbody tr th:only-of-type {\n",
       "        vertical-align: middle;\n",
       "    }\n",
       "\n",
       "    .dataframe tbody tr th {\n",
       "        vertical-align: top;\n",
       "    }\n",
       "\n",
       "    .dataframe thead th {\n",
       "        text-align: right;\n",
       "    }\n",
       "</style>\n",
       "<table border=\"1\" class=\"dataframe\">\n",
       "  <thead>\n",
       "    <tr style=\"text-align: right;\">\n",
       "      <th></th>\n",
       "      <th>CORP_CARR_CD</th>\n",
       "      <th>FRT_BILL_TYP</th>\n",
       "      <th>FAC_CD</th>\n",
       "      <th>EDI_IND</th>\n",
       "      <th>TRNSP_MODE</th>\n",
       "      <th>CARR_MODE</th>\n",
       "      <th>SUPP_DLR_FAC_TYP</th>\n",
       "      <th>SUPP_DLR_FAC_CD</th>\n",
       "      <th>ORIG_CITY_STATE</th>\n",
       "      <th>DEST_CITY_STATE</th>\n",
       "      <th>FRT_TRN_WT_LB</th>\n",
       "      <th>FRT_CHRG</th>\n",
       "      <th>Grief_Code</th>\n",
       "    </tr>\n",
       "  </thead>\n",
       "  <tbody>\n",
       "    <tr>\n",
       "      <th>0</th>\n",
       "      <td>OTH</td>\n",
       "      <td>P</td>\n",
       "      <td>X47</td>\n",
       "      <td>Y</td>\n",
       "      <td>T</td>\n",
       "      <td>T</td>\n",
       "      <td>S</td>\n",
       "      <td>CS00000</td>\n",
       "      <td>others</td>\n",
       "      <td>others</td>\n",
       "      <td>0.0</td>\n",
       "      <td>17.03</td>\n",
       "      <td>N</td>\n",
       "    </tr>\n",
       "    <tr>\n",
       "      <th>1</th>\n",
       "      <td>OTH</td>\n",
       "      <td>A</td>\n",
       "      <td>X47</td>\n",
       "      <td>Y</td>\n",
       "      <td>T</td>\n",
       "      <td>T</td>\n",
       "      <td>S</td>\n",
       "      <td>CS00000</td>\n",
       "      <td>others</td>\n",
       "      <td>others</td>\n",
       "      <td>217.0</td>\n",
       "      <td>104.45</td>\n",
       "      <td>N</td>\n",
       "    </tr>\n",
       "    <tr>\n",
       "      <th>2</th>\n",
       "      <td>OTH</td>\n",
       "      <td>Y</td>\n",
       "      <td>X47</td>\n",
       "      <td>Y</td>\n",
       "      <td>T</td>\n",
       "      <td>T</td>\n",
       "      <td>S</td>\n",
       "      <td>CS00000</td>\n",
       "      <td>others</td>\n",
       "      <td>X121950</td>\n",
       "      <td>0.0</td>\n",
       "      <td>75.00</td>\n",
       "      <td>N</td>\n",
       "    </tr>\n",
       "    <tr>\n",
       "      <th>3</th>\n",
       "      <td>OTH</td>\n",
       "      <td>P</td>\n",
       "      <td>X47</td>\n",
       "      <td>Y</td>\n",
       "      <td>T</td>\n",
       "      <td>T</td>\n",
       "      <td>S</td>\n",
       "      <td>CS00000</td>\n",
       "      <td>others</td>\n",
       "      <td>X121950</td>\n",
       "      <td>0.0</td>\n",
       "      <td>210.30</td>\n",
       "      <td>N</td>\n",
       "    </tr>\n",
       "    <tr>\n",
       "      <th>4</th>\n",
       "      <td>OTH</td>\n",
       "      <td>A</td>\n",
       "      <td>X47</td>\n",
       "      <td>Y</td>\n",
       "      <td>T</td>\n",
       "      <td>T</td>\n",
       "      <td>S</td>\n",
       "      <td>CS00000</td>\n",
       "      <td>others</td>\n",
       "      <td>X121950</td>\n",
       "      <td>22193.0</td>\n",
       "      <td>1051.50</td>\n",
       "      <td>N</td>\n",
       "    </tr>\n",
       "  </tbody>\n",
       "</table>\n",
       "</div>"
      ],
      "text/plain": [
       "  CORP_CARR_CD FRT_BILL_TYP FAC_CD EDI_IND TRNSP_MODE CARR_MODE  \\\n",
       "0          OTH            P    X47       Y          T         T   \n",
       "1          OTH            A    X47       Y          T         T   \n",
       "2          OTH            Y    X47       Y          T         T   \n",
       "3          OTH            P    X47       Y          T         T   \n",
       "4          OTH            A    X47       Y          T         T   \n",
       "\n",
       "  SUPP_DLR_FAC_TYP SUPP_DLR_FAC_CD ORIG_CITY_STATE DEST_CITY_STATE  \\\n",
       "0                S         CS00000          others          others   \n",
       "1                S         CS00000          others          others   \n",
       "2                S         CS00000          others         X121950   \n",
       "3                S         CS00000          others         X121950   \n",
       "4                S         CS00000          others         X121950   \n",
       "\n",
       "   FRT_TRN_WT_LB  FRT_CHRG Grief_Code  \n",
       "0            0.0     17.03          N  \n",
       "1          217.0    104.45          N  \n",
       "2            0.0     75.00          N  \n",
       "3            0.0    210.30          N  \n",
       "4        22193.0   1051.50          N  "
      ]
     },
     "execution_count": 5,
     "metadata": {},
     "output_type": "execute_result"
    }
   ],
   "source": [
    "df.head()"
   ]
  },
  {
   "cell_type": "code",
   "execution_count": 6,
   "metadata": {
    "colab": {
     "base_uri": "https://localhost:8080/",
     "height": 34
    },
    "colab_type": "code",
    "id": "mq3ZQv1us3Qc",
    "outputId": "19c6fde5-8aca-4649-ad5f-c9b8ae221ee6"
   },
   "outputs": [
    {
     "data": {
      "text/plain": [
       "(3749767, 13)"
      ]
     },
     "execution_count": 6,
     "metadata": {},
     "output_type": "execute_result"
    }
   ],
   "source": [
    "df.shape"
   ]
  },
  {
   "cell_type": "markdown",
   "metadata": {
    "colab_type": "text",
    "id": "bsW5y9qAsdgq"
   },
   "source": [
    "### Min-Max Normalization for Numerical Variables"
   ]
  },
  {
   "cell_type": "code",
   "execution_count": 7,
   "metadata": {
    "colab": {
     "base_uri": "https://localhost:8080/",
     "height": 119
    },
    "colab_type": "code",
    "id": "N2_wh9vFqa6T",
    "outputId": "7b169973-1056-4df1-bece-39ec3cb2a79e"
   },
   "outputs": [
    {
     "data": {
      "text/plain": [
       "0      17.03\n",
       "1     104.45\n",
       "2      75.00\n",
       "3     210.30\n",
       "4    1051.50\n",
       "Name: FRT_CHRG, dtype: float64"
      ]
     },
     "execution_count": 7,
     "metadata": {},
     "output_type": "execute_result"
    }
   ],
   "source": [
    "df['FRT_CHRG'].head()"
   ]
  },
  {
   "cell_type": "code",
   "execution_count": 8,
   "metadata": {
    "colab": {},
    "colab_type": "code",
    "id": "O_2KNfXEpVhp"
   },
   "outputs": [],
   "source": [
    "df['FRT_CHRG']=(df['FRT_CHRG']-df['FRT_CHRG'].min())/(df['FRT_CHRG'].max()-df['FRT_CHRG'].min())"
   ]
  },
  {
   "cell_type": "code",
   "execution_count": 9,
   "metadata": {
    "colab": {},
    "colab_type": "code",
    "id": "B1SidmvOsBKx"
   },
   "outputs": [],
   "source": [
    "df['FRT_TRN_WT_LB']=(df['FRT_TRN_WT_LB']-df['FRT_TRN_WT_LB'].min())/(df['FRT_TRN_WT_LB'].max()-df['FRT_TRN_WT_LB'].min())"
   ]
  },
  {
   "cell_type": "code",
   "execution_count": 10,
   "metadata": {
    "colab": {
     "base_uri": "https://localhost:8080/",
     "height": 119
    },
    "colab_type": "code",
    "id": "umHmU8X1tEND",
    "outputId": "667e870f-c11f-498d-b979-f3fc4029d7a7"
   },
   "outputs": [
    {
     "data": {
      "text/plain": [
       "0    0.000111\n",
       "1    0.000682\n",
       "2    0.000490\n",
       "3    0.001373\n",
       "4    0.006864\n",
       "Name: FRT_CHRG, dtype: float64"
      ]
     },
     "execution_count": 10,
     "metadata": {},
     "output_type": "execute_result"
    }
   ],
   "source": [
    "df['FRT_CHRG'].head()"
   ]
  },
  {
   "cell_type": "markdown",
   "metadata": {
    "colab_type": "text",
    "id": "84ckymTfsjOA"
   },
   "source": [
    "#### CREATE DUMMIES"
   ]
  },
  {
   "cell_type": "code",
   "execution_count": 11,
   "metadata": {
    "colab": {},
    "colab_type": "code",
    "id": "HpIEE81yUSlc"
   },
   "outputs": [],
   "source": [
    "df.head()\n",
    "num=df[[\"FRT_CHRG\",\"FRT_TRN_WT_LB\"]]\n",
    "cat=df[[\"CORP_CARR_CD\",\"FRT_BILL_TYP\",\"FAC_CD\",\"EDI_IND\",\"TRNSP_MODE\",\"CARR_MODE\",\"SUPP_DLR_FAC_TYP\",\"SUPP_DLR_FAC_CD\",\"ORIG_CITY_STATE\",\"DEST_CITY_STATE\",\"Grief_Code\"]]"
   ]
  },
  {
   "cell_type": "code",
   "execution_count": 12,
   "metadata": {
    "colab": {},
    "colab_type": "code",
    "id": "aMKIBpAHVRcO"
   },
   "outputs": [],
   "source": [
    "dumm=pd.get_dummies(cat,drop_first=True)"
   ]
  },
  {
   "cell_type": "code",
   "execution_count": 13,
   "metadata": {
    "colab": {
     "base_uri": "https://localhost:8080/",
     "height": 253
    },
    "colab_type": "code",
    "id": "4X0fAaA8txut",
    "outputId": "228dcb8a-8a1f-4d90-ed84-7663a7b45cfd"
   },
   "outputs": [
    {
     "data": {
      "text/html": [
       "<div>\n",
       "<style scoped>\n",
       "    .dataframe tbody tr th:only-of-type {\n",
       "        vertical-align: middle;\n",
       "    }\n",
       "\n",
       "    .dataframe tbody tr th {\n",
       "        vertical-align: top;\n",
       "    }\n",
       "\n",
       "    .dataframe thead th {\n",
       "        text-align: right;\n",
       "    }\n",
       "</style>\n",
       "<table border=\"1\" class=\"dataframe\">\n",
       "  <thead>\n",
       "    <tr style=\"text-align: right;\">\n",
       "      <th></th>\n",
       "      <th>CORP_CARR_CD_X0055</th>\n",
       "      <th>CORP_CARR_CD_X0495</th>\n",
       "      <th>CORP_CARR_CD_X2687A</th>\n",
       "      <th>CORP_CARR_CD_X2886</th>\n",
       "      <th>CORP_CARR_CD_X3349</th>\n",
       "      <th>CORP_CARR_CD_X3590A</th>\n",
       "      <th>CORP_CARR_CD_X3999</th>\n",
       "      <th>CORP_CARR_CD_X4841</th>\n",
       "      <th>CORP_CARR_CD_X4982</th>\n",
       "      <th>CORP_CARR_CD_X4984</th>\n",
       "      <th>...</th>\n",
       "      <th>DEST_CITY_STATE_X120110</th>\n",
       "      <th>DEST_CITY_STATE_X120540</th>\n",
       "      <th>DEST_CITY_STATE_X120830</th>\n",
       "      <th>DEST_CITY_STATE_X121430</th>\n",
       "      <th>DEST_CITY_STATE_X121950</th>\n",
       "      <th>DEST_CITY_STATE_X122320</th>\n",
       "      <th>DEST_CITY_STATE_X343116</th>\n",
       "      <th>DEST_CITY_STATE_X423040</th>\n",
       "      <th>DEST_CITY_STATE_others</th>\n",
       "      <th>Grief_Code_Y</th>\n",
       "    </tr>\n",
       "  </thead>\n",
       "  <tbody>\n",
       "    <tr>\n",
       "      <th>0</th>\n",
       "      <td>0</td>\n",
       "      <td>0</td>\n",
       "      <td>0</td>\n",
       "      <td>0</td>\n",
       "      <td>0</td>\n",
       "      <td>0</td>\n",
       "      <td>0</td>\n",
       "      <td>0</td>\n",
       "      <td>0</td>\n",
       "      <td>0</td>\n",
       "      <td>...</td>\n",
       "      <td>0</td>\n",
       "      <td>0</td>\n",
       "      <td>0</td>\n",
       "      <td>0</td>\n",
       "      <td>0</td>\n",
       "      <td>0</td>\n",
       "      <td>0</td>\n",
       "      <td>0</td>\n",
       "      <td>1</td>\n",
       "      <td>0</td>\n",
       "    </tr>\n",
       "    <tr>\n",
       "      <th>1</th>\n",
       "      <td>0</td>\n",
       "      <td>0</td>\n",
       "      <td>0</td>\n",
       "      <td>0</td>\n",
       "      <td>0</td>\n",
       "      <td>0</td>\n",
       "      <td>0</td>\n",
       "      <td>0</td>\n",
       "      <td>0</td>\n",
       "      <td>0</td>\n",
       "      <td>...</td>\n",
       "      <td>0</td>\n",
       "      <td>0</td>\n",
       "      <td>0</td>\n",
       "      <td>0</td>\n",
       "      <td>0</td>\n",
       "      <td>0</td>\n",
       "      <td>0</td>\n",
       "      <td>0</td>\n",
       "      <td>1</td>\n",
       "      <td>0</td>\n",
       "    </tr>\n",
       "    <tr>\n",
       "      <th>2</th>\n",
       "      <td>0</td>\n",
       "      <td>0</td>\n",
       "      <td>0</td>\n",
       "      <td>0</td>\n",
       "      <td>0</td>\n",
       "      <td>0</td>\n",
       "      <td>0</td>\n",
       "      <td>0</td>\n",
       "      <td>0</td>\n",
       "      <td>0</td>\n",
       "      <td>...</td>\n",
       "      <td>0</td>\n",
       "      <td>0</td>\n",
       "      <td>0</td>\n",
       "      <td>0</td>\n",
       "      <td>1</td>\n",
       "      <td>0</td>\n",
       "      <td>0</td>\n",
       "      <td>0</td>\n",
       "      <td>0</td>\n",
       "      <td>0</td>\n",
       "    </tr>\n",
       "    <tr>\n",
       "      <th>3</th>\n",
       "      <td>0</td>\n",
       "      <td>0</td>\n",
       "      <td>0</td>\n",
       "      <td>0</td>\n",
       "      <td>0</td>\n",
       "      <td>0</td>\n",
       "      <td>0</td>\n",
       "      <td>0</td>\n",
       "      <td>0</td>\n",
       "      <td>0</td>\n",
       "      <td>...</td>\n",
       "      <td>0</td>\n",
       "      <td>0</td>\n",
       "      <td>0</td>\n",
       "      <td>0</td>\n",
       "      <td>1</td>\n",
       "      <td>0</td>\n",
       "      <td>0</td>\n",
       "      <td>0</td>\n",
       "      <td>0</td>\n",
       "      <td>0</td>\n",
       "    </tr>\n",
       "    <tr>\n",
       "      <th>4</th>\n",
       "      <td>0</td>\n",
       "      <td>0</td>\n",
       "      <td>0</td>\n",
       "      <td>0</td>\n",
       "      <td>0</td>\n",
       "      <td>0</td>\n",
       "      <td>0</td>\n",
       "      <td>0</td>\n",
       "      <td>0</td>\n",
       "      <td>0</td>\n",
       "      <td>...</td>\n",
       "      <td>0</td>\n",
       "      <td>0</td>\n",
       "      <td>0</td>\n",
       "      <td>0</td>\n",
       "      <td>1</td>\n",
       "      <td>0</td>\n",
       "      <td>0</td>\n",
       "      <td>0</td>\n",
       "      <td>0</td>\n",
       "      <td>0</td>\n",
       "    </tr>\n",
       "  </tbody>\n",
       "</table>\n",
       "<p>5 rows × 99 columns</p>\n",
       "</div>"
      ],
      "text/plain": [
       "   CORP_CARR_CD_X0055  CORP_CARR_CD_X0495  CORP_CARR_CD_X2687A  \\\n",
       "0                   0                   0                    0   \n",
       "1                   0                   0                    0   \n",
       "2                   0                   0                    0   \n",
       "3                   0                   0                    0   \n",
       "4                   0                   0                    0   \n",
       "\n",
       "   CORP_CARR_CD_X2886  CORP_CARR_CD_X3349  CORP_CARR_CD_X3590A  \\\n",
       "0                   0                   0                    0   \n",
       "1                   0                   0                    0   \n",
       "2                   0                   0                    0   \n",
       "3                   0                   0                    0   \n",
       "4                   0                   0                    0   \n",
       "\n",
       "   CORP_CARR_CD_X3999  CORP_CARR_CD_X4841  CORP_CARR_CD_X4982  \\\n",
       "0                   0                   0                   0   \n",
       "1                   0                   0                   0   \n",
       "2                   0                   0                   0   \n",
       "3                   0                   0                   0   \n",
       "4                   0                   0                   0   \n",
       "\n",
       "   CORP_CARR_CD_X4984      ...       DEST_CITY_STATE_X120110  \\\n",
       "0                   0      ...                             0   \n",
       "1                   0      ...                             0   \n",
       "2                   0      ...                             0   \n",
       "3                   0      ...                             0   \n",
       "4                   0      ...                             0   \n",
       "\n",
       "   DEST_CITY_STATE_X120540  DEST_CITY_STATE_X120830  DEST_CITY_STATE_X121430  \\\n",
       "0                        0                        0                        0   \n",
       "1                        0                        0                        0   \n",
       "2                        0                        0                        0   \n",
       "3                        0                        0                        0   \n",
       "4                        0                        0                        0   \n",
       "\n",
       "   DEST_CITY_STATE_X121950  DEST_CITY_STATE_X122320  DEST_CITY_STATE_X343116  \\\n",
       "0                        0                        0                        0   \n",
       "1                        0                        0                        0   \n",
       "2                        1                        0                        0   \n",
       "3                        1                        0                        0   \n",
       "4                        1                        0                        0   \n",
       "\n",
       "   DEST_CITY_STATE_X423040  DEST_CITY_STATE_others  Grief_Code_Y  \n",
       "0                        0                       1             0  \n",
       "1                        0                       1             0  \n",
       "2                        0                       0             0  \n",
       "3                        0                       0             0  \n",
       "4                        0                       0             0  \n",
       "\n",
       "[5 rows x 99 columns]"
      ]
     },
     "execution_count": 13,
     "metadata": {},
     "output_type": "execute_result"
    }
   ],
   "source": [
    "dumm.head()"
   ]
  },
  {
   "cell_type": "code",
   "execution_count": 14,
   "metadata": {
    "colab": {
     "base_uri": "https://localhost:8080/",
     "height": 253
    },
    "colab_type": "code",
    "id": "oR6Kxi3xVh3C",
    "outputId": "da1e94dc-733d-4d97-d616-a43bbc3c14d3"
   },
   "outputs": [
    {
     "data": {
      "text/html": [
       "<div>\n",
       "<style scoped>\n",
       "    .dataframe tbody tr th:only-of-type {\n",
       "        vertical-align: middle;\n",
       "    }\n",
       "\n",
       "    .dataframe tbody tr th {\n",
       "        vertical-align: top;\n",
       "    }\n",
       "\n",
       "    .dataframe thead th {\n",
       "        text-align: right;\n",
       "    }\n",
       "</style>\n",
       "<table border=\"1\" class=\"dataframe\">\n",
       "  <thead>\n",
       "    <tr style=\"text-align: right;\">\n",
       "      <th></th>\n",
       "      <th>CORP_CARR_CD_X0055</th>\n",
       "      <th>CORP_CARR_CD_X0495</th>\n",
       "      <th>CORP_CARR_CD_X2687A</th>\n",
       "      <th>CORP_CARR_CD_X2886</th>\n",
       "      <th>CORP_CARR_CD_X3349</th>\n",
       "      <th>CORP_CARR_CD_X3590A</th>\n",
       "      <th>CORP_CARR_CD_X3999</th>\n",
       "      <th>CORP_CARR_CD_X4841</th>\n",
       "      <th>CORP_CARR_CD_X4982</th>\n",
       "      <th>CORP_CARR_CD_X4984</th>\n",
       "      <th>...</th>\n",
       "      <th>DEST_CITY_STATE_X120110</th>\n",
       "      <th>DEST_CITY_STATE_X120540</th>\n",
       "      <th>DEST_CITY_STATE_X120830</th>\n",
       "      <th>DEST_CITY_STATE_X121430</th>\n",
       "      <th>DEST_CITY_STATE_X121950</th>\n",
       "      <th>DEST_CITY_STATE_X122320</th>\n",
       "      <th>DEST_CITY_STATE_X343116</th>\n",
       "      <th>DEST_CITY_STATE_X423040</th>\n",
       "      <th>DEST_CITY_STATE_others</th>\n",
       "      <th>Grief_Code_Y</th>\n",
       "    </tr>\n",
       "  </thead>\n",
       "  <tbody>\n",
       "    <tr>\n",
       "      <th>0</th>\n",
       "      <td>0</td>\n",
       "      <td>0</td>\n",
       "      <td>0</td>\n",
       "      <td>0</td>\n",
       "      <td>0</td>\n",
       "      <td>0</td>\n",
       "      <td>0</td>\n",
       "      <td>0</td>\n",
       "      <td>0</td>\n",
       "      <td>0</td>\n",
       "      <td>...</td>\n",
       "      <td>0</td>\n",
       "      <td>0</td>\n",
       "      <td>0</td>\n",
       "      <td>0</td>\n",
       "      <td>0</td>\n",
       "      <td>0</td>\n",
       "      <td>0</td>\n",
       "      <td>0</td>\n",
       "      <td>1</td>\n",
       "      <td>0</td>\n",
       "    </tr>\n",
       "    <tr>\n",
       "      <th>1</th>\n",
       "      <td>0</td>\n",
       "      <td>0</td>\n",
       "      <td>0</td>\n",
       "      <td>0</td>\n",
       "      <td>0</td>\n",
       "      <td>0</td>\n",
       "      <td>0</td>\n",
       "      <td>0</td>\n",
       "      <td>0</td>\n",
       "      <td>0</td>\n",
       "      <td>...</td>\n",
       "      <td>0</td>\n",
       "      <td>0</td>\n",
       "      <td>0</td>\n",
       "      <td>0</td>\n",
       "      <td>0</td>\n",
       "      <td>0</td>\n",
       "      <td>0</td>\n",
       "      <td>0</td>\n",
       "      <td>1</td>\n",
       "      <td>0</td>\n",
       "    </tr>\n",
       "    <tr>\n",
       "      <th>2</th>\n",
       "      <td>0</td>\n",
       "      <td>0</td>\n",
       "      <td>0</td>\n",
       "      <td>0</td>\n",
       "      <td>0</td>\n",
       "      <td>0</td>\n",
       "      <td>0</td>\n",
       "      <td>0</td>\n",
       "      <td>0</td>\n",
       "      <td>0</td>\n",
       "      <td>...</td>\n",
       "      <td>0</td>\n",
       "      <td>0</td>\n",
       "      <td>0</td>\n",
       "      <td>0</td>\n",
       "      <td>1</td>\n",
       "      <td>0</td>\n",
       "      <td>0</td>\n",
       "      <td>0</td>\n",
       "      <td>0</td>\n",
       "      <td>0</td>\n",
       "    </tr>\n",
       "    <tr>\n",
       "      <th>3</th>\n",
       "      <td>0</td>\n",
       "      <td>0</td>\n",
       "      <td>0</td>\n",
       "      <td>0</td>\n",
       "      <td>0</td>\n",
       "      <td>0</td>\n",
       "      <td>0</td>\n",
       "      <td>0</td>\n",
       "      <td>0</td>\n",
       "      <td>0</td>\n",
       "      <td>...</td>\n",
       "      <td>0</td>\n",
       "      <td>0</td>\n",
       "      <td>0</td>\n",
       "      <td>0</td>\n",
       "      <td>1</td>\n",
       "      <td>0</td>\n",
       "      <td>0</td>\n",
       "      <td>0</td>\n",
       "      <td>0</td>\n",
       "      <td>0</td>\n",
       "    </tr>\n",
       "    <tr>\n",
       "      <th>4</th>\n",
       "      <td>0</td>\n",
       "      <td>0</td>\n",
       "      <td>0</td>\n",
       "      <td>0</td>\n",
       "      <td>0</td>\n",
       "      <td>0</td>\n",
       "      <td>0</td>\n",
       "      <td>0</td>\n",
       "      <td>0</td>\n",
       "      <td>0</td>\n",
       "      <td>...</td>\n",
       "      <td>0</td>\n",
       "      <td>0</td>\n",
       "      <td>0</td>\n",
       "      <td>0</td>\n",
       "      <td>1</td>\n",
       "      <td>0</td>\n",
       "      <td>0</td>\n",
       "      <td>0</td>\n",
       "      <td>0</td>\n",
       "      <td>0</td>\n",
       "    </tr>\n",
       "  </tbody>\n",
       "</table>\n",
       "<p>5 rows × 99 columns</p>\n",
       "</div>"
      ],
      "text/plain": [
       "   CORP_CARR_CD_X0055  CORP_CARR_CD_X0495  CORP_CARR_CD_X2687A  \\\n",
       "0                   0                   0                    0   \n",
       "1                   0                   0                    0   \n",
       "2                   0                   0                    0   \n",
       "3                   0                   0                    0   \n",
       "4                   0                   0                    0   \n",
       "\n",
       "   CORP_CARR_CD_X2886  CORP_CARR_CD_X3349  CORP_CARR_CD_X3590A  \\\n",
       "0                   0                   0                    0   \n",
       "1                   0                   0                    0   \n",
       "2                   0                   0                    0   \n",
       "3                   0                   0                    0   \n",
       "4                   0                   0                    0   \n",
       "\n",
       "   CORP_CARR_CD_X3999  CORP_CARR_CD_X4841  CORP_CARR_CD_X4982  \\\n",
       "0                   0                   0                   0   \n",
       "1                   0                   0                   0   \n",
       "2                   0                   0                   0   \n",
       "3                   0                   0                   0   \n",
       "4                   0                   0                   0   \n",
       "\n",
       "   CORP_CARR_CD_X4984      ...       DEST_CITY_STATE_X120110  \\\n",
       "0                   0      ...                             0   \n",
       "1                   0      ...                             0   \n",
       "2                   0      ...                             0   \n",
       "3                   0      ...                             0   \n",
       "4                   0      ...                             0   \n",
       "\n",
       "   DEST_CITY_STATE_X120540  DEST_CITY_STATE_X120830  DEST_CITY_STATE_X121430  \\\n",
       "0                        0                        0                        0   \n",
       "1                        0                        0                        0   \n",
       "2                        0                        0                        0   \n",
       "3                        0                        0                        0   \n",
       "4                        0                        0                        0   \n",
       "\n",
       "   DEST_CITY_STATE_X121950  DEST_CITY_STATE_X122320  DEST_CITY_STATE_X343116  \\\n",
       "0                        0                        0                        0   \n",
       "1                        0                        0                        0   \n",
       "2                        1                        0                        0   \n",
       "3                        1                        0                        0   \n",
       "4                        1                        0                        0   \n",
       "\n",
       "   DEST_CITY_STATE_X423040  DEST_CITY_STATE_others  Grief_Code_Y  \n",
       "0                        0                       1             0  \n",
       "1                        0                       1             0  \n",
       "2                        0                       0             0  \n",
       "3                        0                       0             0  \n",
       "4                        0                       0             0  \n",
       "\n",
       "[5 rows x 99 columns]"
      ]
     },
     "execution_count": 14,
     "metadata": {},
     "output_type": "execute_result"
    }
   ],
   "source": [
    "dumm.head()"
   ]
  },
  {
   "cell_type": "code",
   "execution_count": 15,
   "metadata": {
    "colab": {},
    "colab_type": "code",
    "id": "hEBancxqV597"
   },
   "outputs": [],
   "source": [
    "modf=pd.concat([dumm,num], axis=1)"
   ]
  },
  {
   "cell_type": "markdown",
   "metadata": {},
   "source": [
    "#### Separate Training and validation dataset"
   ]
  },
  {
   "cell_type": "code",
   "execution_count": 17,
   "metadata": {
    "colab": {
     "base_uri": "https://localhost:8080/",
     "height": 253
    },
    "colab_type": "code",
    "id": "hebFjHRcWB31",
    "outputId": "f82d7a55-6260-4ae3-fdbd-655d13dedea5"
   },
   "outputs": [],
   "source": [
    "modf_train=modf.iloc[0:3684578,]\n",
    "modf_validate=modf.iloc[3684578:,]"
   ]
  },
  {
   "cell_type": "markdown",
   "metadata": {
    "colab_type": "text",
    "id": "hm5vPma0tFFC"
   },
   "source": [
    "#### Train-Test data partitioning for train dataset"
   ]
  },
  {
   "cell_type": "code",
   "execution_count": 96,
   "metadata": {
    "colab": {
     "base_uri": "https://localhost:8080/",
     "height": 466
    },
    "colab_type": "code",
    "id": "7WFh9F2su5NU",
    "outputId": "07d730b7-0496-4621-969a-e62df0babc50"
   },
   "outputs": [
    {
     "data": {
      "image/png": "[encoded data removed]",
      "text/plain": [
       "<Figure size 432x288 with 1 Axes>"
      ]
     },
     "metadata": {},
     "output_type": "display_data"
    },
    {
     "name": "stdout",
     "output_type": "stream",
     "text": [
      "percentage of no grief is 80.78683637583462\n",
      "percentage of grief is 19.21316362416537\n"
     ]
    },
    {
     "data": {
      "text/plain": [
       "<Figure size 432x288 with 0 Axes>"
      ]
     },
     "metadata": {},
     "output_type": "display_data"
    }
   ],
   "source": [
    "#Understanding Grief distribution in training dataset\n",
    "sns.countplot(x='Grief_Code_Y',data=modf_train,palette='hls')\n",
    "plt.xlabel(\"Grief_Code\")\n",
    "plt.show()\n",
    "plt.savefig('count_plot')\n",
    "count_no_grief = len(modf_train[modf_train['Grief_Code_Y']==0])\n",
    "count_grief = len(modf_train[modf_train['Grief_Code_Y']==1])\n",
    "pct_of_no_grief = count_no_grief/(count_no_grief+count_grief)\n",
    "print(\"percentage of no grief is\", pct_of_no_grief*100)\n",
    "pct_of_grief = count_grief/(count_no_grief+count_grief)\n",
    "print(\"percentage of grief is\", pct_of_grief*100)"
   ]
  },
  {
   "cell_type": "code",
   "execution_count": 20,
   "metadata": {
    "colab": {},
    "colab_type": "code",
    "id": "qvSO64Q6xWvm"
   },
   "outputs": [],
   "source": [
    "df=modf_train"
   ]
  },
  {
   "cell_type": "code",
   "execution_count": 21,
   "metadata": {
    "colab": {},
    "colab_type": "code",
    "id": "A-z0G-aCKvHZ"
   },
   "outputs": [
    {
     "data": {
      "text/plain": [
       "0    63582\n",
       "1     1607\n",
       "Name: Grief_Code_Y, dtype: int64"
      ]
     },
     "execution_count": 21,
     "metadata": {},
     "output_type": "execute_result"
    }
   ],
   "source": [
    "modf_validate['Grief_Code_Y'].value_counts()"
   ]
  },
  {
   "cell_type": "code",
   "execution_count": 22,
   "metadata": {
    "colab": {
     "base_uri": "https://localhost:8080/",
     "height": 68
    },
    "colab_type": "code",
    "id": "JhF2xzDDxRBN",
    "outputId": "5f67cd45-cf1f-48a8-ab03-3bb6b10bb94b"
   },
   "outputs": [
    {
     "data": {
      "text/plain": [
       "0    2976654\n",
       "1     707924\n",
       "Name: Grief_Code_Y, dtype: int64"
      ]
     },
     "execution_count": 22,
     "metadata": {},
     "output_type": "execute_result"
    }
   ],
   "source": [
    "df['Grief_Code_Y'].value_counts()"
   ]
  },
  {
   "cell_type": "code",
   "execution_count": 23,
   "metadata": {
    "colab": {},
    "colab_type": "code",
    "id": "OP5GH-fXyna4"
   },
   "outputs": [],
   "source": [
    "train, test = train_test_split(df, test_size=0.2)"
   ]
  },
  {
   "cell_type": "code",
   "execution_count": 24,
   "metadata": {
    "colab": {
     "base_uri": "https://localhost:8080/",
     "height": 34
    },
    "colab_type": "code",
    "id": "PzwntSScysHa",
    "outputId": "37f3b86e-05cb-4edb-e2a9-39e6acab63ed"
   },
   "outputs": [
    {
     "data": {
      "text/plain": [
       "(2947662, 101)"
      ]
     },
     "execution_count": 24,
     "metadata": {},
     "output_type": "execute_result"
    }
   ],
   "source": [
    "train.shape"
   ]
  },
  {
   "cell_type": "code",
   "execution_count": 25,
   "metadata": {
    "colab": {
     "base_uri": "https://localhost:8080/",
     "height": 68
    },
    "colab_type": "code",
    "id": "5xMiDet8zUgi",
    "outputId": "eee0e3ed-0e18-487e-d4aa-0ee6346a67fe"
   },
   "outputs": [
    {
     "data": {
      "text/plain": [
       "0    2381312\n",
       "1     566350\n",
       "Name: Grief_Code_Y, dtype: int64"
      ]
     },
     "execution_count": 25,
     "metadata": {},
     "output_type": "execute_result"
    }
   ],
   "source": [
    "train['Grief_Code_Y'].value_counts()"
   ]
  },
  {
   "cell_type": "markdown",
   "metadata": {},
   "source": [
    "#### Downsampling of Data"
   ]
  },
  {
   "cell_type": "code",
   "execution_count": 26,
   "metadata": {
    "colab": {},
    "colab_type": "code",
    "id": "Ia1z6TcWzhz_"
   },
   "outputs": [],
   "source": [
    "train_majority = train[train.Grief_Code_Y==0]\n",
    "train_minority = train[train.Grief_Code_Y==1]"
   ]
  },
  {
   "cell_type": "code",
   "execution_count": 27,
   "metadata": {
    "colab": {},
    "colab_type": "code",
    "id": "0IUtwkvtysNL"
   },
   "outputs": [],
   "source": [
    "train_majority_downsampled = resample(train_majority, \n",
    "                                 replace=False,    # sample without replacement\n",
    "                                 n_samples=566350,     # to match minority class\n",
    "                                 random_state=123)"
   ]
  },
  {
   "cell_type": "code",
   "execution_count": 28,
   "metadata": {
    "colab": {},
    "colab_type": "code",
    "id": "yszho2M5ysS6"
   },
   "outputs": [],
   "source": [
    "train_downsampled = pd.concat([train_majority_downsampled, train_minority])"
   ]
  },
  {
   "cell_type": "code",
   "execution_count": 29,
   "metadata": {
    "colab": {
     "base_uri": "https://localhost:8080/",
     "height": 68
    },
    "colab_type": "code",
    "id": "z0Pi6XoiysW6",
    "outputId": "d689f1bd-650a-48ba-bfd8-c67d86384cd9"
   },
   "outputs": [
    {
     "data": {
      "text/plain": [
       "1    566350\n",
       "0    566350\n",
       "Name: Grief_Code_Y, dtype: int64"
      ]
     },
     "execution_count": 29,
     "metadata": {},
     "output_type": "execute_result"
    }
   ],
   "source": [
    "train_downsampled['Grief_Code_Y'].value_counts()"
   ]
  },
  {
   "cell_type": "markdown",
   "metadata": {},
   "source": [
    "#### Create separate test and train datasets for dependent and independent variables used for training, testing and validating"
   ]
  },
  {
   "cell_type": "code",
   "execution_count": 30,
   "metadata": {
    "colab": {},
    "colab_type": "code",
    "id": "ugApHSt_x_6K"
   },
   "outputs": [],
   "source": [
    "y_train = train_downsampled.Grief_Code_Y\n",
    "X_train = train_downsampled.drop('Grief_Code_Y', axis=1)\n",
    "y_test = test.Grief_Code_Y\n",
    "X_test = test.drop('Grief_Code_Y', axis=1)\n",
    "y_validate= modf_validate.Grief_Code_Y\n",
    "X_validate = modf_validate.drop('Grief_Code_Y', axis=1)"
   ]
  },
  {
   "cell_type": "markdown",
   "metadata": {},
   "source": [
    "### Model Developement"
   ]
  },
  {
   "cell_type": "markdown",
   "metadata": {
    "colab_type": "text",
    "id": "UoJPK99-WvAR"
   },
   "source": [
    "##### LOGISTIC REGRESSION"
   ]
  },
  {
   "cell_type": "code",
   "execution_count": 31,
   "metadata": {
    "colab": {
     "base_uri": "https://localhost:8080/",
     "height": 71
    },
    "colab_type": "code",
    "id": "iFjUVaIaylG-",
    "outputId": "de7de597-fae4-422a-e441-2598a3cd9102"
   },
   "outputs": [
    {
     "name": "stderr",
     "output_type": "stream",
     "text": [
      "/anaconda3/lib/python3.6/site-packages/sklearn/linear_model/logistic.py:433: FutureWarning: Default solver will be changed to 'lbfgs' in 0.22. Specify a solver to silence this warning.\n",
      "  FutureWarning)\n"
     ]
    }
   ],
   "source": [
    "glm = LogisticRegression().fit(X_train, y_train)"
   ]
  },
  {
   "cell_type": "code",
   "execution_count": 32,
   "metadata": {},
   "outputs": [
    {
     "data": {
      "text/plain": [
       "array([5.86723827])"
      ]
     },
     "execution_count": 32,
     "metadata": {},
     "output_type": "execute_result"
    }
   ],
   "source": [
    "glm.intercept_"
   ]
  },
  {
   "cell_type": "code",
   "execution_count": 52,
   "metadata": {
    "colab": {
     "base_uri": "https://localhost:8080/",
     "height": 68
    },
    "colab_type": "code",
    "id": "EhA2qCYBy_zm",
    "outputId": "f70f41b9-3ca0-4c03-fff7-18f7e217da67"
   },
   "outputs": [
    {
     "name": "stdout",
     "output_type": "stream",
     "text": [
      "Accuracy of the logistic regression model is 0.8175382268806757\n",
      "The confusion Matrix is [[489518 105824]\n",
      " [ 28635 112939]]\n",
      "Specificity of GLM is 0.5162618907219229\n",
      "Sensitivity of GLM is 0.9447364002524351\n"
     ]
    }
   ],
   "source": [
    "### Prediction for logistic regression\n",
    "glm_pred = glm.predict(X_test)\n",
    "print('Accuracy of the logistic regression model is',accuracy_score(y_test, glm_pred) )\n",
    "from sklearn.metrics import confusion_matrix\n",
    "confusion_matrix = confusion_matrix(y_test, glm_pred)\n",
    "print('The confusion Matrix is', confusion_matrix)\n",
    "print('Specificity of GLM is', confusion_matrix[1][1]/(confusion_matrix[1][1]+confusion_matrix[0][1]))\n",
    "print('Sensitivity of GLM is', confusion_matrix[0][0]/(confusion_matrix[0][0]+confusion_matrix[1][0]))\n"
   ]
  },
  {
   "cell_type": "code",
   "execution_count": 61,
   "metadata": {
    "colab": {
     "base_uri": "https://localhost:8080/",
     "height": 34
    },
    "colab_type": "code",
    "id": "6_AfXlLknJnb",
    "outputId": "34d22caf-e9a7-44e6-e5ab-d0e7cc87d68e"
   },
   "outputs": [
    {
     "name": "stdout",
     "output_type": "stream",
     "text": [
      "AUC Score for GLM is  0.89\n"
     ]
    }
   ],
   "source": [
    "### Calculate AUC Score\n",
    "from sklearn.metrics import roc_auc_score\n",
    "prob_glm = glm.predict_proba(X_test)\n",
    "prob_glm = [p[1] for p in prob_glm]\n",
    "print( \"AUC Score for GLM is \", round(roc_auc_score(y_test, prob_glm),2))\n",
    "\n"
   ]
  },
  {
   "cell_type": "code",
   "execution_count": 124,
   "metadata": {
    "colab": {
     "base_uri": "https://localhost:8080/",
     "height": 347
    },
    "colab_type": "code",
    "id": "cUoGwEw6n_By",
    "outputId": "c999be41-34bb-4b75-ea86-583d53afbeac",
    "scrolled": true
   },
   "outputs": [
    {
     "data": {
      "image/png": "[encoded data removed]",
      "text/plain": [
       "<Figure size 432x288 with 1 Axes>"
      ]
     },
     "metadata": {},
     "output_type": "display_data"
    }
   ],
   "source": [
    "from sklearn import metrics\n",
    "fpr_glm, tpr_glm, _ = metrics.roc_curve(y_test,  prob_glm)\n",
    "auc_glm = metrics.roc_auc_score(y_test, prob_glm)\n",
    "plt.plot(fpr_glm,tpr_glm,label=\"GLM, auc=\"+str(round(auc_glm,3)))\n",
    "plt.ylabel('True Positive Rate')\n",
    "plt.xlabel('False Positive Rate')\n",
    "plt.legend(loc=4)\n",
    "plt.show()"
   ]
  },
  {
   "cell_type": "markdown",
   "metadata": {
    "colab_type": "text",
    "id": "TNewAftEUkeq"
   },
   "source": [
    "#### RANDOM FOREST"
   ]
  },
  {
   "cell_type": "code",
   "execution_count": 63,
   "metadata": {
    "colab": {},
    "colab_type": "code",
    "id": "iGQPUmEXSnAF"
   },
   "outputs": [],
   "source": [
    "from sklearn.ensemble import RandomForestClassifier\n",
    "rf = RandomForestClassifier()"
   ]
  },
  {
   "cell_type": "code",
   "execution_count": 64,
   "metadata": {
    "colab": {
     "base_uri": "https://localhost:8080/",
     "height": 190
    },
    "colab_type": "code",
    "id": "oy3Zde7WUw0q",
    "outputId": "dcf6e978-5379-47e1-bd66-29e57632e015"
   },
   "outputs": [
    {
     "name": "stderr",
     "output_type": "stream",
     "text": [
      "/anaconda3/lib/python3.6/site-packages/sklearn/ensemble/forest.py:246: FutureWarning: The default value of n_estimators will change from 10 in version 0.20 to 100 in 0.22.\n",
      "  \"10 in version 0.20 to 100 in 0.22.\", FutureWarning)\n"
     ]
    },
    {
     "data": {
      "text/plain": [
       "RandomForestClassifier(bootstrap=True, class_weight=None, criterion='gini',\n",
       "            max_depth=None, max_features='auto', max_leaf_nodes=None,\n",
       "            min_impurity_decrease=0.0, min_impurity_split=None,\n",
       "            min_samples_leaf=1, min_samples_split=2,\n",
       "            min_weight_fraction_leaf=0.0, n_estimators=10, n_jobs=None,\n",
       "            oob_score=False, random_state=None, verbose=0,\n",
       "            warm_start=False)"
      ]
     },
     "execution_count": 64,
     "metadata": {},
     "output_type": "execute_result"
    }
   ],
   "source": [
    "rf.fit(X_train, y_train)"
   ]
  },
  {
   "cell_type": "code",
   "execution_count": 158,
   "metadata": {
    "colab": {
     "base_uri": "https://localhost:8080/",
     "height": 68
    },
    "colab_type": "code",
    "id": "VQFEm7BWU5Fz",
    "outputId": "cb45c7f1-51f5-43bc-9dfe-f86b97062303"
   },
   "outputs": [
    {
     "name": "stdout",
     "output_type": "stream",
     "text": [
      "Accuracy for Random Forest is 0.867\n",
      "The confusion Matrix is [[519676  75666]\n",
      " [ 22625 118949]]\n",
      "Specificity of GLM is 0.611\n",
      "Sensitivity of GLM is 0.958\n"
     ]
    }
   ],
   "source": [
    "rf_pred = rf.predict(X_test)\n",
    "print( \"Accuracy for Random Forest is\", round(accuracy_score(y_test, rf_pred),3) )\n",
    "from sklearn.metrics import confusion_matrix\n",
    "confusion_matrix = confusion_matrix(y_test, rf_pred)\n",
    "print('The confusion Matrix is', confusion_matrix)\n",
    "print('Specificity of GLM is', round(confusion_matrix[1][1]/(confusion_matrix[1][1]+confusion_matrix[0][1]),3))\n",
    "print('Sensitivity of GLM is', round(confusion_matrix[0][0]/(confusion_matrix[0][0]+confusion_matrix[1][0]),3))\n"
   ]
  },
  {
   "cell_type": "code",
   "execution_count": 72,
   "metadata": {
    "colab": {
     "base_uri": "https://localhost:8080/",
     "height": 34
    },
    "colab_type": "code",
    "id": "gv9H6iweHc_h",
    "outputId": "ac3f4144-b91e-473b-9728-ff2745ea255f"
   },
   "outputs": [
    {
     "name": "stdout",
     "output_type": "stream",
     "text": [
      "0.9244156556254858\n"
     ]
    }
   ],
   "source": [
    "from sklearn.metrics import roc_auc_score\n",
    "prob_rf = rf.predict_proba(X_test)\n",
    "prob_rf = [p[1] for p in prob_rf]\n",
    "print(\"The AUC score for Random Forest is\", roc_auc_score(y_test, prob_rf) )"
   ]
  },
  {
   "cell_type": "code",
   "execution_count": 116,
   "metadata": {
    "colab": {
     "base_uri": "https://localhost:8080/",
     "height": 347
    },
    "colab_type": "code",
    "id": "aKsqHncRD1uP",
    "outputId": "5020c417-272e-4279-80d8-dbf77312808a"
   },
   "outputs": [
    {
     "data": {
      "image/png": "[encoded data removed]",
      "text/plain": [
       "<Figure size 432x288 with 1 Axes>"
      ]
     },
     "metadata": {},
     "output_type": "display_data"
    }
   ],
   "source": [
    "from sklearn import metrics\n",
    "fpr_RF, tpr_RF, _ = metrics.roc_curve(y_test,  prob_rf)\n",
    "auc_RF = metrics.roc_auc_score(y_test, prob_rf)\n",
    "plt.plot(fpr_RF,tpr_RF,label=\"RF auc=\"+str(round(auc_RF,3)))\n",
    "plt.legend(loc=4)\n",
    "plt.ylabel('True Positive Rate')\n",
    "plt.xlabel('False Positive Rate')\n",
    "plt.show()"
   ]
  },
  {
   "cell_type": "markdown",
   "metadata": {},
   "source": [
    "#### Feature Importance in Random Forest"
   ]
  },
  {
   "cell_type": "code",
   "execution_count": 157,
   "metadata": {
    "colab": {
     "base_uri": "https://localhost:8080/",
     "height": 2337
    },
    "colab_type": "code",
    "id": "52AYp8U49iIK",
    "outputId": "366d190a-0890-4fc5-f2a5-e9730e307a03"
   },
   "outputs": [
    {
     "name": "stdout",
     "output_type": "stream",
     "text": [
      "Feature ranking:\n",
      "1. feature 98 (0.232838)\n",
      "2. feature 99 (0.111118)\n",
      "3. feature 67 (0.084705)\n",
      "4. feature 77 (0.053564)\n",
      "5. feature 92 (0.047473)\n",
      "6. feature 25 (0.046170)\n",
      "7. feature 62 (0.033143)\n",
      "8. feature 34 (0.024662)\n",
      "9. feature 33 (0.024287)\n",
      "10. feature 47 (0.022031)\n",
      "11. feature 8 (0.020321)\n",
      "12. feature 97 (0.017697)\n",
      "13. feature 95 (0.016302)\n",
      "14. feature 30 (0.014899)\n",
      "15. feature 38 (0.012512)\n",
      "16. feature 63 (0.011368)\n",
      "17. feature 2 (0.010873)\n",
      "18. feature 89 (0.010301)\n",
      "19. feature 94 (0.010180)\n",
      "20. feature 28 (0.009616)\n",
      "21. feature 61 (0.009434)\n",
      "22. feature 29 (0.008874)\n",
      "23. feature 13 (0.008239)\n",
      "24. feature 87 (0.007843)\n",
      "25. feature 37 (0.007279)\n",
      "26. feature 91 (0.007064)\n",
      "27. feature 90 (0.006971)\n",
      "28. feature 36 (0.006770)\n",
      "29. feature 0 (0.006668)\n",
      "30. feature 84 (0.006453)\n",
      "31. feature 54 (0.006237)\n",
      "32. feature 53 (0.006111)\n",
      "33. feature 58 (0.005884)\n",
      "34. feature 9 (0.005339)\n",
      "35. feature 10 (0.005290)\n",
      "36. feature 5 (0.004637)\n",
      "37. feature 93 (0.004561)\n",
      "38. feature 96 (0.004343)\n",
      "39. feature 35 (0.004165)\n",
      "40. feature 7 (0.004138)\n",
      "41. feature 12 (0.004037)\n",
      "42. feature 65 (0.003960)\n",
      "43. feature 21 (0.003649)\n",
      "44. feature 24 (0.003226)\n",
      "45. feature 83 (0.003177)\n",
      "46. feature 20 (0.003085)\n",
      "47. feature 82 (0.002957)\n",
      "48. feature 81 (0.002626)\n",
      "49. feature 88 (0.002447)\n",
      "50. feature 49 (0.002378)\n",
      "51. feature 22 (0.002346)\n",
      "52. feature 1 (0.002162)\n",
      "53. feature 27 (0.002151)\n",
      "54. feature 74 (0.002140)\n",
      "55. feature 79 (0.001961)\n",
      "56. feature 60 (0.001931)\n",
      "57. feature 86 (0.001740)\n",
      "58. feature 73 (0.001702)\n",
      "59. feature 80 (0.001402)\n",
      "60. feature 19 (0.001236)\n",
      "61. feature 85 (0.001208)\n",
      "62. feature 18 (0.001206)\n",
      "63. feature 16 (0.001001)\n",
      "64. feature 71 (0.000921)\n",
      "65. feature 68 (0.000920)\n",
      "66. feature 15 (0.000814)\n",
      "67. feature 23 (0.000800)\n",
      "68. feature 70 (0.000386)\n",
      "69. feature 14 (0.000382)\n",
      "70. feature 72 (0.000319)\n",
      "71. feature 69 (0.000294)\n",
      "72. feature 76 (0.000224)\n",
      "73. feature 78 (0.000182)\n",
      "74. feature 66 (0.000112)\n",
      "75. feature 75 (0.000093)\n",
      "76. feature 39 (0.000088)\n",
      "77. feature 59 (0.000087)\n",
      "78. feature 48 (0.000073)\n",
      "79. feature 50 (0.000065)\n",
      "80. feature 43 (0.000037)\n",
      "81. feature 44 (0.000026)\n",
      "82. feature 55 (0.000020)\n",
      "83. feature 41 (0.000014)\n",
      "84. feature 45 (0.000013)\n",
      "85. feature 56 (0.000013)\n",
      "86. feature 40 (0.000010)\n",
      "87. feature 52 (0.000009)\n",
      "88. feature 51 (0.000006)\n",
      "89. feature 57 (0.000005)\n",
      "90. feature 46 (0.000004)\n",
      "91. feature 64 (0.000000)\n",
      "92. feature 32 (0.000000)\n",
      "93. feature 26 (0.000000)\n",
      "94. feature 11 (0.000000)\n",
      "95. feature 17 (0.000000)\n",
      "96. feature 42 (0.000000)\n",
      "97. feature 31 (0.000000)\n",
      "98. feature 6 (0.000000)\n",
      "99. feature 4 (0.000000)\n",
      "100. feature 3 (0.000000)\n"
     ]
    },
    {
     "data": {
      "image/png": "[encoded data removed]",
      "text/plain": [
       "<Figure size 2160x720 with 1 Axes>"
      ]
     },
     "metadata": {},
     "output_type": "display_data"
    }
   ],
   "source": [
    "importances = rf.feature_importances_\n",
    "std = np.std([tree.feature_importances_ for tree in rf.estimators_],\n",
    "             axis=0)\n",
    "indices = np.argsort(importances)[::-1]\n",
    "\n",
    "# Print the feature ranking\n",
    "print(\"Feature ranking:\")\n",
    "\n",
    "for f in range(X_train.shape[1]):\n",
    "    print(\"%d. feature %d (%f)\" % (f + 1, indices[f], importances[indices[f]]))\n",
    "\n",
    "# Plot the feature importances of the forest\n",
    "plt.figure(figsize=(30,10))\n",
    "plt.title(\"Random Forest Feature importances\")\n",
    "plt.bar(range(X_train.shape[1]), importances[indices],\n",
    "       color=\"r\", yerr=std[indices], align=\"center\")\n",
    "plt.xticks(range(X_train.shape[1]), X_train.columns.values[indices])\n",
    "plt.xticks(rotation=90)\n",
    "plt.xlim([-1, X_train.shape[1]])\n",
    "plt.savefig('RF_Feature_Importance.png')\n",
    "plt.show()\n"
   ]
  },
  {
   "cell_type": "code",
   "execution_count": 159,
   "metadata": {},
   "outputs": [],
   "source": [
    "d = {'Feature_name':X_train.columns.values[indices] , 'Feature_importance': importances[indices]}\n",
    "RF_features = pd.DataFrame(data=d)\n",
    "RF_features.to_csv(\"RF_feature_importance.csv\", sep=',', encoding='utf-8')"
   ]
  },
  {
   "cell_type": "markdown",
   "metadata": {},
   "source": [
    "#### XG BOOST"
   ]
  },
  {
   "cell_type": "code",
   "execution_count": 80,
   "metadata": {
    "colab": {},
    "colab_type": "code",
    "id": "dsOB3wNkNp2J"
   },
   "outputs": [
    {
     "data": {
      "text/plain": [
       "XGBClassifier(base_score=0.5, booster='gbtree', colsample_bylevel=1,\n",
       "       colsample_bytree=1, gamma=0, learning_rate=0.1, max_delta_step=0,\n",
       "       max_depth=3, min_child_weight=1, missing=None, n_estimators=100,\n",
       "       n_jobs=1, nthread=None, objective='binary:logistic', random_state=0,\n",
       "       reg_alpha=0, reg_lambda=1, scale_pos_weight=1, seed=None,\n",
       "       silent=True, subsample=1)"
      ]
     },
     "execution_count": 80,
     "metadata": {},
     "output_type": "execute_result"
    }
   ],
   "source": [
    "from xgboost import XGBClassifier\n",
    "xgb = XGBClassifier()\n",
    "xgb.fit(X_train, y_train)"
   ]
  },
  {
   "cell_type": "code",
   "execution_count": 81,
   "metadata": {},
   "outputs": [],
   "source": [
    "xgb_pred = xgb.predict(X_test)"
   ]
  },
  {
   "cell_type": "code",
   "execution_count": 84,
   "metadata": {},
   "outputs": [
    {
     "name": "stdout",
     "output_type": "stream",
     "text": [
      "Accuracy for XG Boost is 0.822\n",
      "The confusion Matrix is [[493068 102274]\n",
      " [ 28750 112824]]\n",
      "Specificity of XG Boost is 0.525\n",
      "Sensitivity of XG Boost is 0.945\n"
     ]
    }
   ],
   "source": [
    "xgb_pred = xgb.predict(X_test)\n",
    "print( \"Accuracy for XG Boost is\", round(accuracy_score(y_test, xgb_pred),3) )\n",
    "from sklearn.metrics import confusion_matrix\n",
    "confusion_matrix = confusion_matrix(y_test, xgb_pred)\n",
    "print('The confusion Matrix is', confusion_matrix)\n",
    "print('Specificity of XG Boost is', round(confusion_matrix[1][1]/(confusion_matrix[1][1]+confusion_matrix[0][1]),3))\n",
    "print('Sensitivity of XG Boost is', round(confusion_matrix[0][0]/(confusion_matrix[0][0]+confusion_matrix[1][0]),3))\n"
   ]
  },
  {
   "cell_type": "code",
   "execution_count": 88,
   "metadata": {},
   "outputs": [
    {
     "name": "stdout",
     "output_type": "stream",
     "text": [
      "AUC Score 0.896\n"
     ]
    }
   ],
   "source": [
    "from sklearn.metrics import roc_auc_score\n",
    "prob_xgb = xgb.predict_proba(X_test)\n",
    "prob_xgb = [p[1] for p in prob_xgb]\n",
    "print(\"AUC Score for XG Boost is\", round(roc_auc_score(y_test, prob_xgb),3) )"
   ]
  },
  {
   "cell_type": "code",
   "execution_count": 117,
   "metadata": {},
   "outputs": [
    {
     "data": {
      "image/png": "[encoded data removed]",
      "text/plain": [
       "<Figure size 432x288 with 1 Axes>"
      ]
     },
     "metadata": {},
     "output_type": "display_data"
    }
   ],
   "source": [
    "from sklearn import metrics\n",
    "fpr_xgb, tpr_xgb, _ = metrics.roc_curve(y_test,  prob_xgb)\n",
    "auc_xgb = metrics.roc_auc_score(y_test, prob_xgb)\n",
    "plt.plot(fpr_xgb,tpr_xgb,label=\"XGB auc=\"+str(round(auc_xgb,3)))\n",
    "plt.legend(loc=4)\n",
    "plt.ylabel('True Positive Rate')\n",
    "plt.xlabel('False Positive Rate')\n",
    "plt.show()"
   ]
  },
  {
   "cell_type": "markdown",
   "metadata": {},
   "source": [
    "#### Feature Importance for XG Boost"
   ]
  },
  {
   "cell_type": "code",
   "execution_count": 172,
   "metadata": {},
   "outputs": [
    {
     "name": "stdout",
     "output_type": "stream",
     "text": [
      "Feature ranking:\n",
      "1. feature 77 (0.124098)\n",
      "2. feature 92 (0.063492)\n",
      "3. feature 47 (0.050505)\n",
      "4. feature 98 (0.047619)\n",
      "5. feature 38 (0.047619)\n",
      "6. feature 33 (0.046176)\n",
      "7. feature 67 (0.044733)\n",
      "8. feature 13 (0.040404)\n",
      "9. feature 62 (0.038961)\n",
      "10. feature 25 (0.034632)\n",
      "11. feature 12 (0.034632)\n",
      "12. feature 34 (0.030303)\n",
      "13. feature 37 (0.025974)\n",
      "14. feature 89 (0.024531)\n",
      "15. feature 82 (0.023088)\n",
      "16. feature 28 (0.023088)\n",
      "17. feature 29 (0.018759)\n",
      "18. feature 9 (0.017316)\n",
      "19. feature 8 (0.017316)\n",
      "20. feature 2 (0.017316)\n",
      "21. feature 30 (0.015873)\n",
      "22. feature 63 (0.014430)\n",
      "23. feature 97 (0.014430)\n",
      "24. feature 87 (0.012987)\n",
      "25. feature 36 (0.012987)\n",
      "26. feature 95 (0.012987)\n",
      "27. feature 49 (0.011544)\n",
      "28. feature 54 (0.010101)\n",
      "29. feature 20 (0.010101)\n",
      "30. feature 35 (0.008658)\n",
      "31. feature 58 (0.008658)\n",
      "32. feature 68 (0.008658)\n",
      "33. feature 94 (0.008658)\n",
      "34. feature 80 (0.007215)\n",
      "35. feature 24 (0.007215)\n",
      "36. feature 96 (0.007215)\n",
      "37. feature 22 (0.005772)\n",
      "38. feature 10 (0.005772)\n",
      "39. feature 53 (0.005772)\n",
      "40. feature 79 (0.005772)\n",
      "41. feature 99 (0.004329)\n",
      "42. feature 0 (0.004329)\n",
      "43. feature 90 (0.004329)\n",
      "44. feature 73 (0.004329)\n",
      "45. feature 71 (0.004329)\n",
      "46. feature 15 (0.002886)\n",
      "47. feature 76 (0.001443)\n",
      "48. feature 81 (0.001443)\n",
      "49. feature 91 (0.001443)\n",
      "50. feature 74 (0.001443)\n",
      "51. feature 83 (0.001443)\n",
      "52. feature 70 (0.001443)\n",
      "53. feature 5 (0.001443)\n",
      "54. feature 4 (0.000000)\n",
      "55. feature 19 (0.000000)\n",
      "56. feature 23 (0.000000)\n",
      "57. feature 1 (0.000000)\n",
      "58. feature 21 (0.000000)\n",
      "59. feature 93 (0.000000)\n",
      "60. feature 84 (0.000000)\n",
      "61. feature 17 (0.000000)\n",
      "62. feature 18 (0.000000)\n",
      "63. feature 16 (0.000000)\n",
      "64. feature 26 (0.000000)\n",
      "65. feature 14 (0.000000)\n",
      "66. feature 85 (0.000000)\n",
      "67. feature 86 (0.000000)\n",
      "68. feature 11 (0.000000)\n",
      "69. feature 88 (0.000000)\n",
      "70. feature 3 (0.000000)\n",
      "71. feature 7 (0.000000)\n",
      "72. feature 6 (0.000000)\n",
      "73. feature 78 (0.000000)\n",
      "74. feature 59 (0.000000)\n",
      "75. feature 27 (0.000000)\n",
      "76. feature 57 (0.000000)\n",
      "77. feature 56 (0.000000)\n",
      "78. feature 55 (0.000000)\n",
      "79. feature 60 (0.000000)\n",
      "80. feature 61 (0.000000)\n",
      "81. feature 52 (0.000000)\n",
      "82. feature 51 (0.000000)\n",
      "83. feature 50 (0.000000)\n",
      "84. feature 64 (0.000000)\n",
      "85. feature 48 (0.000000)\n",
      "86. feature 65 (0.000000)\n",
      "87. feature 46 (0.000000)\n",
      "88. feature 45 (0.000000)\n",
      "89. feature 44 (0.000000)\n",
      "90. feature 43 (0.000000)\n",
      "91. feature 42 (0.000000)\n",
      "92. feature 41 (0.000000)\n",
      "93. feature 40 (0.000000)\n",
      "94. feature 39 (0.000000)\n",
      "95. feature 66 (0.000000)\n",
      "96. feature 69 (0.000000)\n",
      "97. feature 72 (0.000000)\n",
      "98. feature 32 (0.000000)\n",
      "99. feature 31 (0.000000)\n",
      "100. feature 75 (0.000000)\n"
     ]
    },
    {
     "data": {
      "image/png": "[encoded data removed]",
      "text/plain": [
       "<Figure size 2160x720 with 1 Axes>"
      ]
     },
     "metadata": {},
     "output_type": "display_data"
    }
   ],
   "source": [
    "xgb_importances = xgb.feature_importances_\n",
    "indices_xgb = np.argsort(xgb_importances)[::-1]\n",
    "\n",
    "# Print the feature ranking\n",
    "print(\"Feature ranking:\")\n",
    "\n",
    "for f in range(X_train.shape[1]):\n",
    "    print(\"%d. feature %d (%f)\" % (f + 1, indices_xgb[f], xgb_importances[indices_xgb[f]]))\n",
    "\n",
    "# Plot the feature importances of the forest\n",
    "plt.figure(figsize=(30,10))\n",
    "plt.title(\"XG Boost Feature importances\")\n",
    "plt.bar(range(X_train.shape[1]), xgb_importances[indices_xgb],\n",
    "       color=\"r\", align=\"center\")\n",
    "plt.xticks(range(X_train.shape[1]), X_train.columns.values[indices_xgb])\n",
    "plt.xticks(rotation=90)\n",
    "plt.xlim([-1, X_train.shape[1]])\n",
    "plt.savefig('XG_Boost_Feature_Importance.png')\n",
    "plt.show()"
   ]
  },
  {
   "cell_type": "code",
   "execution_count": 174,
   "metadata": {},
   "outputs": [],
   "source": [
    "d_xgb = {'Feature_name':X_train.columns.values[indices_xgb] , 'Feature_importance': xgb_importances[indices_xgb]}\n",
    "xgb_features = pd.DataFrame(data=d_xgb)\n",
    "xgb_features.to_csv(\"xgb_feature_importance.csv\", sep=',', encoding='utf-8')"
   ]
  },
  {
   "cell_type": "markdown",
   "metadata": {},
   "source": [
    "#### Decision Tree"
   ]
  },
  {
   "cell_type": "code",
   "execution_count": 89,
   "metadata": {},
   "outputs": [
    {
     "data": {
      "text/plain": [
       "DecisionTreeClassifier(class_weight=None, criterion='gini', max_depth=None,\n",
       "            max_features=None, max_leaf_nodes=None,\n",
       "            min_impurity_decrease=0.0, min_impurity_split=None,\n",
       "            min_samples_leaf=1, min_samples_split=2,\n",
       "            min_weight_fraction_leaf=0.0, presort=False, random_state=42,\n",
       "            splitter='best')"
      ]
     },
     "execution_count": 89,
     "metadata": {},
     "output_type": "execute_result"
    }
   ],
   "source": [
    "from sklearn.tree import DecisionTreeClassifier\n",
    "dt = DecisionTreeClassifier(random_state=42)\n",
    "dt.fit(X_train, y_train)"
   ]
  },
  {
   "cell_type": "code",
   "execution_count": 93,
   "metadata": {},
   "outputs": [
    {
     "name": "stdout",
     "output_type": "stream",
     "text": [
      "Accuracy for DT is 0.86\n",
      "The confusion Matrix is [[516187  79155]\n",
      " [ 23946 117628]]\n",
      "Specificity of DT is 0.598\n",
      "Sensitivity of DT is 0.956\n"
     ]
    }
   ],
   "source": [
    "dt_pred = dt.predict(X_test)\n",
    "print( \"Accuracy for DT is\", round(accuracy_score(y_test, dt_pred),3) )\n",
    "from sklearn.metrics import confusion_matrix\n",
    "confusion_matrix = confusion_matrix(y_test, dt_pred)\n",
    "print('The confusion Matrix is', confusion_matrix)\n",
    "print('Specificity of DT is', round(confusion_matrix[1][1]/(confusion_matrix[1][1]+confusion_matrix[0][1]),3))\n",
    "print('Sensitivity of DT is', round(confusion_matrix[0][0]/(confusion_matrix[0][0]+confusion_matrix[1][0]),3))\n"
   ]
  },
  {
   "cell_type": "code",
   "execution_count": 95,
   "metadata": {},
   "outputs": [
    {
     "name": "stdout",
     "output_type": "stream",
     "text": [
      "AUC Score 0.872\n"
     ]
    }
   ],
   "source": [
    "from sklearn.metrics import roc_auc_score\n",
    "prob_dt = dt.predict_proba(X_test)\n",
    "prob_dt = [p[1] for p in prob_dt]\n",
    "print(\"AUC Score for Decision Tree\", round(roc_auc_score(y_test, prob_dt),3) )"
   ]
  },
  {
   "cell_type": "code",
   "execution_count": 118,
   "metadata": {},
   "outputs": [
    {
     "data": {
      "image/png": "[encoded data removed]",
      "text/plain": [
       "<Figure size 432x288 with 1 Axes>"
      ]
     },
     "metadata": {},
     "output_type": "display_data"
    }
   ],
   "source": [
    "from sklearn import metrics\n",
    "fpr_dt, tpr_dt, _ = metrics.roc_curve(y_test,  prob_dt)\n",
    "auc_dt = metrics.roc_auc_score(y_test, prob_dt)\n",
    "plt.plot(fpr_dt,tpr_dt,label=\"Decision Tree auc=\"+str(round(auc_dt,3)))\n",
    "plt.legend(loc=4)\n",
    "plt.ylabel('True Positive Rate')\n",
    "plt.xlabel('False Positive Rate')\n",
    "plt.show()"
   ]
  },
  {
   "cell_type": "markdown",
   "metadata": {},
   "source": [
    "#### Feature Importance in Decision Tree"
   ]
  },
  {
   "cell_type": "code",
   "execution_count": 175,
   "metadata": {},
   "outputs": [
    {
     "name": "stdout",
     "output_type": "stream",
     "text": [
      "Feature ranking:\n",
      "1. feature 98 (0.197585)\n",
      "2. feature 67 (0.139461)\n",
      "3. feature 99 (0.105678)\n",
      "4. feature 25 (0.064693)\n",
      "5. feature 13 (0.062613)\n",
      "6. feature 77 (0.052159)\n",
      "7. feature 92 (0.034971)\n",
      "8. feature 47 (0.030893)\n",
      "9. feature 8 (0.024555)\n",
      "10. feature 34 (0.023963)\n",
      "11. feature 33 (0.022742)\n",
      "12. feature 30 (0.022201)\n",
      "13. feature 89 (0.016608)\n",
      "14. feature 62 (0.015010)\n",
      "15. feature 2 (0.011712)\n",
      "16. feature 38 (0.011676)\n",
      "17. feature 97 (0.010013)\n",
      "18. feature 36 (0.008566)\n",
      "19. feature 87 (0.008250)\n",
      "20. feature 29 (0.008239)\n",
      "21. feature 54 (0.007859)\n",
      "22. feature 28 (0.007765)\n",
      "23. feature 91 (0.007212)\n",
      "24. feature 37 (0.006831)\n",
      "25. feature 49 (0.006115)\n",
      "26. feature 9 (0.005813)\n",
      "27. feature 90 (0.005377)\n",
      "28. feature 35 (0.005088)\n",
      "29. feature 21 (0.004439)\n",
      "30. feature 95 (0.004131)\n",
      "31. feature 7 (0.003951)\n",
      "32. feature 24 (0.003917)\n",
      "33. feature 53 (0.003681)\n",
      "34. feature 86 (0.003624)\n",
      "35. feature 81 (0.003218)\n",
      "36. feature 93 (0.003049)\n",
      "37. feature 84 (0.003003)\n",
      "38. feature 20 (0.002987)\n",
      "39. feature 10 (0.002961)\n",
      "40. feature 5 (0.002939)\n",
      "41. feature 83 (0.002806)\n",
      "42. feature 12 (0.002752)\n",
      "43. feature 94 (0.002626)\n",
      "44. feature 73 (0.002603)\n",
      "45. feature 58 (0.002353)\n",
      "46. feature 1 (0.002343)\n",
      "47. feature 22 (0.001907)\n",
      "48. feature 96 (0.001824)\n",
      "49. feature 71 (0.001584)\n",
      "50. feature 19 (0.001465)\n",
      "51. feature 27 (0.001379)\n",
      "52. feature 88 (0.001147)\n",
      "53. feature 80 (0.001092)\n",
      "54. feature 85 (0.000894)\n",
      "55. feature 15 (0.000784)\n",
      "56. feature 0 (0.000746)\n",
      "57. feature 16 (0.000725)\n",
      "58. feature 23 (0.000688)\n",
      "59. feature 76 (0.000668)\n",
      "60. feature 68 (0.000574)\n",
      "61. feature 18 (0.000547)\n",
      "62. feature 82 (0.000526)\n",
      "63. feature 14 (0.000407)\n",
      "64. feature 61 (0.000366)\n",
      "65. feature 60 (0.000341)\n",
      "66. feature 69 (0.000314)\n",
      "67. feature 74 (0.000277)\n",
      "68. feature 78 (0.000150)\n",
      "69. feature 79 (0.000126)\n",
      "70. feature 63 (0.000122)\n",
      "71. feature 72 (0.000065)\n",
      "72. feature 66 (0.000049)\n",
      "73. feature 65 (0.000048)\n",
      "74. feature 50 (0.000044)\n",
      "75. feature 59 (0.000023)\n",
      "76. feature 52 (0.000019)\n",
      "77. feature 46 (0.000018)\n",
      "78. feature 70 (0.000017)\n",
      "79. feature 45 (0.000010)\n",
      "80. feature 39 (0.000007)\n",
      "81. feature 56 (0.000005)\n",
      "82. feature 41 (0.000003)\n",
      "83. feature 43 (0.000002)\n",
      "84. feature 40 (0.000001)\n",
      "85. feature 75 (0.000001)\n",
      "86. feature 42 (0.000000)\n",
      "87. feature 3 (0.000000)\n",
      "88. feature 4 (0.000000)\n",
      "89. feature 6 (0.000000)\n",
      "90. feature 32 (0.000000)\n",
      "91. feature 31 (0.000000)\n",
      "92. feature 64 (0.000000)\n",
      "93. feature 11 (0.000000)\n",
      "94. feature 44 (0.000000)\n",
      "95. feature 48 (0.000000)\n",
      "96. feature 26 (0.000000)\n",
      "97. feature 51 (0.000000)\n",
      "98. feature 55 (0.000000)\n",
      "99. feature 17 (0.000000)\n",
      "100. feature 57 (0.000000)\n"
     ]
    },
    {
     "data": {
      "image/png": "[encoded data removed]",
      "text/plain": [
       "<Figure size 2160x720 with 1 Axes>"
      ]
     },
     "metadata": {},
     "output_type": "display_data"
    }
   ],
   "source": [
    "dt_importances = dt.feature_importances_\n",
    "indices_dt = np.argsort(dt_importances)[::-1]\n",
    "\n",
    "# Print the feature ranking\n",
    "print(\"Feature ranking:\")\n",
    "\n",
    "for f in range(X_train.shape[1]):\n",
    "    print(\"%d. feature %d (%f)\" % (f + 1, indices_dt[f], dt_importances[indices_dt[f]]))\n",
    "\n",
    "# Plot the feature importances of the forest\n",
    "plt.figure(figsize=(30,10))\n",
    "plt.title(\"XG Boost Feature importances\")\n",
    "plt.bar(range(X_train.shape[1]), dt_importances[indices_dt],\n",
    "       color=\"r\", align=\"center\")\n",
    "plt.xticks(range(X_train.shape[1]), X_train.columns.values[indices_dt])\n",
    "plt.xticks(rotation=90)\n",
    "plt.xlim([-1, X_train.shape[1]])\n",
    "plt.savefig('DT_Feature_Importance.png')\n",
    "plt.show()"
   ]
  },
  {
   "cell_type": "code",
   "execution_count": 176,
   "metadata": {},
   "outputs": [],
   "source": [
    "d_dt = {'Feature_name':X_train.columns.values[indices_dt] , 'Feature_importance': dt_importances[indices_dt]}\n",
    "dt_features = pd.DataFrame(data=d_dt)\n",
    "dt_features.to_csv(\"dt_feature_importance.csv\", sep=',', encoding='utf-8')"
   ]
  },
  {
   "cell_type": "markdown",
   "metadata": {},
   "source": [
    "### AUC Score Comparison between Logistic regression, random forest, XG Boost and decision tree"
   ]
  },
  {
   "cell_type": "code",
   "execution_count": 126,
   "metadata": {},
   "outputs": [
    {
     "data": {
      "image/png": "[encoded data removed]",
      "text/plain": [
       "<Figure size 432x288 with 1 Axes>"
      ]
     },
     "metadata": {},
     "output_type": "display_data"
    }
   ],
   "source": [
    "plt.plot([0, 1], [0, 1], color = 'black', linewidth = 2)\n",
    "plt.plot(fpr_glm,tpr_glm,label=\"Logistic Regression, AUC=\"+str(round(auc_dt,2)))\n",
    "plt.plot(fpr_RF,tpr_RF,label=\"Random Forest, AUC=\"+str(round(auc_RF,2)))\n",
    "plt.plot(fpr_xgb,tpr_xgb,label=\"XG Boost, AUC=\"+str(round(auc_xgb,2)))\n",
    "plt.plot(fpr_dt,tpr_dt,label=\"Decision Tree, AUC=\"+str(round(auc_glm,2)))\n",
    "\n",
    "plt.legend()\n",
    "plt.ylabel('True Positive Rate')\n",
    "plt.xlabel('False Positive Rate')\n",
    "plt.show()"
   ]
  },
  {
   "cell_type": "markdown",
   "metadata": {},
   "source": [
    "#### Performance evaluation on Validation Data"
   ]
  },
  {
   "cell_type": "code",
   "execution_count": 165,
   "metadata": {},
   "outputs": [
    {
     "name": "stdout",
     "output_type": "stream",
     "text": [
      "Accuracy of the logistic regression model is 0.9111353142401325\n",
      "The confusion Matrix is [[58034  5548]\n",
      " [  245  1362]]\n",
      "Specificity of GLM is 0.1971056439942113\n",
      "Sensitivity of GLM is 0.9957960843528544\n",
      "AUC Score for GLM is  0.95\n"
     ]
    }
   ],
   "source": [
    "### Prediction for logistic regression\n",
    "glm_validate = glm.predict(X_validate)\n",
    "print('Accuracy of the logistic regression model is',accuracy_score(y_validate, glm_validate) )\n",
    "from sklearn.metrics import confusion_matrix\n",
    "confusion_matrix = confusion_matrix(y_validate, glm_validate)\n",
    "print('The confusion Matrix is', confusion_matrix)\n",
    "print('Specificity of GLM is', confusion_matrix[1][1]/(confusion_matrix[1][1]+confusion_matrix[0][1]))\n",
    "print('Sensitivity of GLM is', confusion_matrix[0][0]/(confusion_matrix[0][0]+confusion_matrix[1][0]))\n",
    "from sklearn.metrics import roc_auc_score\n",
    "prob_glm_validate = glm.predict_proba(X_validate)\n",
    "prob_glm_validate = [p[1] for p in prob_glm_validate]\n",
    "print( \"AUC Score for GLM is \", round(roc_auc_score(y_validate, prob_glm_validate),2))\n"
   ]
  },
  {
   "cell_type": "code",
   "execution_count": 166,
   "metadata": {},
   "outputs": [
    {
     "name": "stdout",
     "output_type": "stream",
     "text": [
      "Accuracy for Random Forest is 0.848\n",
      "The confusion Matrix is [[53942  9640]\n",
      " [  262  1345]]\n",
      "Specificity of RF is 0.122\n",
      "Sensitivity of RF is 0.995\n",
      "0.9103414506972527\n"
     ]
    }
   ],
   "source": [
    "rf_validate = rf.predict(X_validate)\n",
    "print( \"Accuracy for Random Forest is\", round(accuracy_score(y_validate, rf_validate),3) )\n",
    "from sklearn.metrics import confusion_matrix\n",
    "confusion_matrix = confusion_matrix(y_validate, rf_validate)\n",
    "print('The confusion Matrix is', confusion_matrix)\n",
    "print('Specificity of RF is', round(confusion_matrix[1][1]/(confusion_matrix[1][1]+confusion_matrix[0][1]),3))\n",
    "print('Sensitivity of RF is', round(confusion_matrix[0][0]/(confusion_matrix[0][0]+confusion_matrix[1][0]),3))\n",
    "from sklearn.metrics import roc_auc_score\n",
    "prob_rf_validate = rf.predict_proba(X_validate)\n",
    "prob_rf_validate = [p[1] for p in prob_rf_validate]\n",
    "print( roc_auc_score(y_validate, prob_rf_validate) )\n"
   ]
  },
  {
   "cell_type": "code",
   "execution_count": 169,
   "metadata": {},
   "outputs": [
    {
     "name": "stdout",
     "output_type": "stream",
     "text": [
      "Accuracy for XG Boost is 0.937\n",
      "The confusion Matrix is [[59796  3786]\n",
      " [  326  1281]]\n",
      "Specificity of XG Boost is 0.253\n",
      "Sensitivity of XG Boost is 0.995\n",
      "AUC Score 0.946\n"
     ]
    }
   ],
   "source": [
    "xgb_validate = xgb.predict(X_validate)\n",
    "print( \"Accuracy for XG Boost is\", round(accuracy_score(y_validate, xgb_validate),3) )\n",
    "from sklearn.metrics import confusion_matrix\n",
    "confusion_matrix = confusion_matrix(y_validate, xgb_validate)\n",
    "print('The confusion Matrix is', confusion_matrix)\n",
    "print('Specificity of XG Boost is', round(confusion_matrix[1][1]/(confusion_matrix[1][1]+confusion_matrix[0][1]),3))\n",
    "print('Sensitivity of XG Boost is', round(confusion_matrix[0][0]/(confusion_matrix[0][0]+confusion_matrix[1][0]),3))\n",
    "from sklearn.metrics import roc_auc_score\n",
    "prob_xgb_validate = xgb.predict_proba(X_validate)\n",
    "prob_xgb_validate = [p[1] for p in prob_xgb_validate]\n",
    "print(\"AUC Score\", round(roc_auc_score(y_validate, prob_xgb_validate),3) )"
   ]
  },
  {
   "cell_type": "code",
   "execution_count": 170,
   "metadata": {},
   "outputs": [
    {
     "name": "stdout",
     "output_type": "stream",
     "text": [
      "Accuracy for DT is 0.771\n",
      "The confusion Matrix is [[48945 14637]\n",
      " [  300  1307]]\n",
      "Specificity of DT is 0.082\n",
      "Sensitivity of DT is 0.994\n",
      "AUC Score 0.793\n"
     ]
    }
   ],
   "source": [
    "dt_validate = dt.predict(X_validate)\n",
    "print( \"Accuracy for DT is\", round(accuracy_score(y_validate, dt_validate),3) )\n",
    "from sklearn.metrics import confusion_matrix\n",
    "confusion_matrix = confusion_matrix(y_validate, dt_validate)\n",
    "print('The confusion Matrix is', confusion_matrix)\n",
    "print('Specificity of DT is', round(confusion_matrix[1][1]/(confusion_matrix[1][1]+confusion_matrix[0][1]),3))\n",
    "print('Sensitivity of DT is', round(confusion_matrix[0][0]/(confusion_matrix[0][0]+confusion_matrix[1][0]),3))\n",
    "from sklearn.metrics import roc_auc_score\n",
    "prob_dt_validate = dt.predict_proba(X_validate)\n",
    "prob_dt_validate = [p[1] for p in prob_dt_validate]\n",
    "print(\"AUC Score\", round(roc_auc_score(y_validate, prob_dt_validate),3) )"
   ]
  }
 ],
 "metadata": {
  "colab": {
   "collapsed_sections": [],
   "name": "cat.ipynb",
   "provenance": [],
   "version": "0.3.2"
  },
  "kernelspec": {
   "display_name": "Python 3",
   "language": "python",
   "name": "python3"
  },
  "language_info": {
   "codemirror_mode": {
    "name": "ipython",
    "version": 3
   },
   "file_extension": ".py",
   "mimetype": "text/x-python",
   "name": "python",
   "nbconvert_exporter": "python",
   "pygments_lexer": "ipython3",
   "version": "3.6.5"
  }
 },
 "nbformat": 4,
 "nbformat_minor": 1
}
